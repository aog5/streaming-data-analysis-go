{
 "cells": [
  {
   "cell_type": "markdown",
   "metadata": {},
   "source": [
    "# Connecting to Twitter, Handling Tweets"
   ]
  },
  {
   "cell_type": "markdown",
   "metadata": {},
   "source": [
    "## Imports"
   ]
  },
  {
   "cell_type": "code",
   "execution_count": null,
   "metadata": {
    "collapsed": true
   },
   "outputs": [],
   "source": [
    "import (\n",
    "    \"encoding/json\"\n",
    "    \"net\"\n",
    "    \"net/http\"\n",
    "    \"net/url\"\n",
    "    \"strconv\"\n",
    "    \"strings\"\n",
    "    \"sync\"\n",
    "    \"time\"\n",
    "    \"fmt\"\n",
    "    \"os\"\n",
    "    \n",
    "    \"github.com/garyburd/go-oauth/oauth\"\n",
    ")"
   ]
  },
  {
   "cell_type": "markdown",
   "metadata": {},
   "source": [
    "## Creating a tweet reader"
   ]
  },
  {
   "cell_type": "markdown",
   "metadata": {},
   "source": [
    "We are going to define a couple types. First, we are going to utilize the `Tweet` struct that we have seen in prior notebooks, and then we are going to define a `TweetReader` struct type that will hold all the info we need when connecting to Twitter."
   ]
  },
  {
   "cell_type": "code",
   "execution_count": null,
   "metadata": {
    "collapsed": true
   },
   "outputs": [],
   "source": [
    "// Tweet is a single tweet.\n",
    "type Tweet struct {\n",
    "    Text string\n",
    "    Terms []string\n",
    "}\n",
    "\n",
    "// TweetReader includes the info we need to access Twitter.\n",
    "type TweetReader struct {\n",
    "    ConsumerKey, ConsumerSecret, AccessToken, AccessSecret string\n",
    "}"
   ]
  },
  {
   "cell_type": "markdown",
   "metadata": {},
   "source": [
    "Also, let's define a function `NewTweetReader` that will initialize a `TweetReader` value for us."
   ]
  },
  {
   "cell_type": "code",
   "execution_count": null,
   "metadata": {
    "collapsed": true
   },
   "outputs": [],
   "source": [
    "// NewTweetReader creates a new TweetReader with the given credentials.\n",
    "func NewTweetReader(consumerKey, consumerSecret, accessToken, accessSecret string) *TweetReader {\n",
    "    return &TweetReader{\n",
    "        ConsumerKey:    consumerKey,\n",
    "        ConsumerSecret: consumerSecret,\n",
    "        AccessToken:    accessToken,\n",
    "        AccessSecret:   accessSecret,\n",
    "    }\n",
    "}"
   ]
  },
  {
   "cell_type": "markdown",
   "metadata": {},
   "source": [
    "## Creating an HTTP client"
   ]
  },
  {
   "cell_type": "markdown",
   "metadata": {},
   "source": [
    "Next, we are going to define a new HTTP client that we will use to retrieve our Tweets. Because we are going to do some streaming analysis and may be utilizing this client from mutliple goroutines, I have borrowed the HTTP client configuration from a similar MachineBox project that will keep us safe in these scenarios. It includes both a Mutex for accessing the client and some timeout functionality."
   ]
  },
  {
   "cell_type": "code",
   "execution_count": null,
   "metadata": {
    "collapsed": true
   },
   "outputs": [],
   "source": [
    "// Create a new HTTP client.\n",
    "var connLock sync.Mutex\n",
    "var conn net.Conn\n",
    "client := &http.Client{\n",
    "    Transport: &http.Transport{\n",
    "        Dial: func(netw, addr string) (net.Conn, error) {\n",
    "            connLock.Lock()\n",
    "            defer connLock.Unlock()\n",
    "            if conn != nil {\n",
    "                conn.Close()\n",
    "                conn = nil\n",
    "            }\n",
    "            netc, err := net.DialTimeout(netw, addr, 5*time.Second)\n",
    "            if err != nil {\n",
    "                return nil, err\n",
    "            }\n",
    "            conn = netc\n",
    "            return netc, nil\n",
    "        },\n",
    "    },\n",
    "}"
   ]
  },
  {
   "cell_type": "markdown",
   "metadata": {},
   "source": [
    "## Making a request for tweets"
   ]
  },
  {
   "cell_type": "markdown",
   "metadata": {},
   "source": [
    "To retrieve Tweets from Twitter's streaming API, you will need to obtain a set of credentials from your Twitter account. To do this:\n",
    "\n",
    "1. Go to apps.twitter.com\n",
    "2. Create a new app\n",
    "3. Under that app, under `Keys and Access Tokens` retrieve your connection key and secret.\n",
    "4. Generate an access token and token secret on that same page.\n",
    "5. Retrieve the access token and token secret.\n",
    "\n",
    "In Jupyter, open a new terminal (similar to opening a new notebook). In this terminal, set the following environmental variables:\n",
    "\n",
    "```\n",
    "$ export TwitterConKey=<your connection key>\n",
    "$ export TwitterConSecret=<your connection secret>\n",
    "$ export TwitterAccToken=<your access token>\n",
    "$ export TwitterAccSecret=<your access tokent secret>\n",
    "```\n",
    "\n",
    "After setting these environmental variables we can create our `TweetReader` value and an oauth client and credentials:"
   ]
  },
  {
   "cell_type": "code",
   "execution_count": null,
   "metadata": {
    "collapsed": true
   },
   "outputs": [],
   "source": [
    "// Create a new Tweet Reader.\n",
    "consumerKey := os.Getenv(\"TwitterConKey\")\n",
    "consumerSecret := os.Getenv(\"TwitterConSecret\")\n",
    "accessToken := os.Getenv(\"TwitterAccToken\")\n",
    "accessSecret := os.Getenv(\"TwitterAccSecret\")\n",
    "r := NewTweetReader(consumerKey, consumerSecret, accessToken, accessSecret)"
   ]
  },
  {
   "cell_type": "code",
   "execution_count": null,
   "metadata": {
    "collapsed": true
   },
   "outputs": [],
   "source": [
    "// Create oauth Credentials.\n",
    "creds := &oauth.Credentials{\n",
    "    Token:  r.AccessToken,\n",
    "    Secret: r.AccessSecret,\n",
    "}\n",
    "\n",
    "// Create an oauth Client.\n",
    "authClient := &oauth.Client{\n",
    "    Credentials: oauth.Credentials{\n",
    "        Token:  r.ConsumerKey,\n",
    "        Secret: r.ConsumerSecret,\n",
    "    },\n",
    "}"
   ]
  },
  {
   "cell_type": "markdown",
   "metadata": {},
   "source": [
    "We are going to retrieve tweets by keywords contained in those tweets. Feel free to modify the keywords below according to your interests, but keep in mind that you may want to pick frequently used keywords to make sure something is returned:"
   ]
  },
  {
   "cell_type": "code",
   "execution_count": null,
   "metadata": {
    "collapsed": true
   },
   "outputs": [],
   "source": [
    "// Define the terms for our search.\n",
    "terms := []string{\"Trump\", \"Russia\"}\n",
    "form := url.Values{\"track\": terms}\n",
    "formEnc := form.Encode()"
   ]
  },
  {
   "cell_type": "markdown",
   "metadata": {},
   "source": [
    "Finally, we can create our request to the Twitter streaming API and use our client to execute that request:"
   ]
  },
  {
   "cell_type": "code",
   "execution_count": null,
   "metadata": {
    "collapsed": true
   },
   "outputs": [],
   "source": [
    "// Create a new HTTP request.\n",
    "u, err := url.Parse(\"https://stream.twitter.com/1.1/statuses/filter.json\")\n",
    "if err != nil {\n",
    "    fmt.Println(\"Could not parse url:\", err)\n",
    "}\n",
    "\n",
    "req, err := http.NewRequest(\"POST\", u.String(), strings.NewReader(formEnc))\n",
    "if err != nil {\n",
    "    fmt.Println(\"creating filter request failed:\", err)\n",
    "}\n",
    "\n",
    "// Set some header info.\n",
    "req.Header.Set(\"Authorization\", authClient.AuthorizationHeader(creds, \"POST\", u, form))\n",
    "req.Header.Set(\"Content-Type\", \"application/x-www-form-urlencoded\")\n",
    "req.Header.Set(\"Content-Length\", strconv.Itoa(len(formEnc)))"
   ]
  },
  {
   "cell_type": "code",
   "execution_count": null,
   "metadata": {
    "collapsed": true
   },
   "outputs": [],
   "source": [
    "// Do the request.\n",
    "resp, err := client.Do(req)\n",
    "if err != nil {\n",
    "    fmt.Println(\"Error getting response:\", err)\n",
    "}\n",
    "if resp.StatusCode != http.StatusOK {\n",
    "    fmt.Println(\"failed with status code:\", resp.StatusCode)\n",
    "}"
   ]
  },
  {
   "cell_type": "markdown",
   "metadata": {},
   "source": [
    "## Reading retrieved tweets"
   ]
  },
  {
   "cell_type": "markdown",
   "metadata": {},
   "source": [
    "Now to read successive tweets returned in the response, we are going to create a new decoder using the `encoding/json` package. This decoder will read from the provided reader. We will then loop 10 times reading in 10 tweets and output them to stdout."
   ]
  },
  {
   "cell_type": "code",
   "execution_count": null,
   "metadata": {
    "collapsed": true
   },
   "outputs": [],
   "source": [
    "// Create a new decoder for the response body.\n",
    "decoder := json.NewDecoder(resp.Body)\n",
    "\n",
    "// Start reading in tweets and parsing them.\n",
    "for i := 0; i < 10; i++ {\n",
    "    var t Tweet\n",
    "    if err := decoder.Decode(&t); err != nil {\n",
    "        break\n",
    "    }\n",
    "    fmt.Printf(\"TWEET %d TEXT: %s\\n\", i+1, t.Text)\n",
    "    fmt.Println(\"----------------------------------------\\n\")\n",
    "}\n",
    "\n",
    "// Close the response body.\n",
    "resp.Body.Close()"
   ]
  }
 ],
 "metadata": {
  "kernelspec": {
   "display_name": "Go",
   "language": "go",
   "name": "gophernotes"
  },
  "language_info": {
   "codemirror_mode": "",
   "file_extension": ".go",
   "mimetype": "",
   "name": "go",
   "nbconvert_exporter": "",
   "pygments_lexer": "",
   "version": "go1.9"
  }
 },
 "nbformat": 4,
 "nbformat_minor": 2
}
