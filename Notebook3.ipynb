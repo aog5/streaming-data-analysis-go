{
 "cells": [
  {
   "cell_type": "markdown",
   "metadata": {},
   "source": [
    "# The \"sync\" package, Mutexes"
   ]
  },
  {
   "cell_type": "markdown",
   "metadata": {},
   "source": [
    "## Imports"
   ]
  },
  {
   "cell_type": "code",
   "execution_count": null,
   "metadata": {},
   "outputs": [],
   "source": [
    "import (\n",
    "    \"fmt\"\n",
    "    \"sync\"\n",
    "    \"time\"\n",
    ")"
   ]
  },
  {
   "cell_type": "markdown",
   "metadata": {},
   "source": [
    "## Intro to sync.Mutex"
   ]
  },
  {
   "cell_type": "markdown",
   "metadata": {},
   "source": [
    "One of the main mechanisms for managing state in Go is communication over channels, as we learned in the previous notebook. However, as stated in [this useful article](https://github.com/golang/go/wiki/MutexOrChannel) in the official Go wiki:\n",
    "\n",
    "> A common Go newbie mistake is to over-use channels and goroutines just because it's possible, and/or because it's fun. Don't be afraid to use a `sync.Mutex` if that fits your problem best.\n",
    "\n",
    "So what does that mean, and what the heck is a \"Mutex\"? Well, a mutex is a mutual exclusion lock that can be utilized as a rule, such that we can safely access data across multiple goroutines. More specifically, a Mutex allows us to Lock certain data (e.g., a struct) that may also be accessed by other goroutines, such that we ensure exclusive access to the data until we Unlock that data."
   ]
  },
  {
   "cell_type": "markdown",
   "metadata": {},
   "source": [
    "## Example"
   ]
  },
  {
   "cell_type": "markdown",
   "metadata": {},
   "source": [
    "Let's say that we have our Stats struct from the first notebook. If we wanted to have the option to Lock/Unlock this Stats data, we might include a Mutex in the struct as follows:"
   ]
  },
  {
   "cell_type": "code",
   "execution_count": null,
   "metadata": {},
   "outputs": [],
   "source": [
    "// Stats stores aggregated stats about\n",
    "// tweets collected over time\n",
    "type Stats struct {\n",
    "    SentimentAverage  float64\n",
    "    Counts            map[string]int\n",
    "    Mux               sync.Mutex\n",
    "}"
   ]
  },
  {
   "cell_type": "markdown",
   "metadata": {},
   "source": [
    "Now, we will eventually want to update the `Counts`, for example. If we have multiple goroutines that might be updating these `Counts`, we can wrap the operation in an Lock and Unlock that references the Mutex:"
   ]
  },
  {
   "cell_type": "code",
   "execution_count": null,
   "metadata": {},
   "outputs": [],
   "source": [
    "// IncrementCount the count of tweets.\n",
    "func (s *Stats) IncrementCount(key string) {\n",
    "    \n",
    "    // Lock so only the current goroutine can access the map.\n",
    "    s.Mux.Lock()\n",
    "    \n",
    "    // Increment the count.\n",
    "    s.Counts[key]++\n",
    "    \n",
    "    // Unlock the data.\n",
    "    s.Mux.Unlock()\n",
    "}"
   ]
  },
  {
   "cell_type": "markdown",
   "metadata": {},
   "source": [
    "We can also do this for accessing the current values in the Counts:"
   ]
  },
  {
   "cell_type": "code",
   "execution_count": null,
   "metadata": {},
   "outputs": [],
   "source": [
    "// GetCount returns a count of tweets.\n",
    "func (s *Stats) GetCount(key string) int {\n",
    "    s.Mux.Lock()\n",
    "    defer s.Mux.Unlock()\n",
    "    return s.Counts[key]\n",
    "}"
   ]
  },
  {
   "cell_type": "markdown",
   "metadata": {},
   "source": [
    "Now, let's try spinning up a bunch of goroutines that are trying to increment these counts at the same time. The Mutex will ensure that we do this safely:"
   ]
  },
  {
   "cell_type": "code",
   "execution_count": null,
   "metadata": {},
   "outputs": [],
   "source": [
    "// Initialize our tweet stats.\n",
    "stats := &Stats{\n",
    "    Counts: map[string]int{\n",
    "        \"positive\": 0,\n",
    "        \"negative\": 0,\n",
    "        \"neutral\": 0,\n",
    "    },\n",
    "    Mux: sync.Mutex{},\n",
    "}"
   ]
  },
  {
   "cell_type": "code",
   "execution_count": null,
   "metadata": {},
   "outputs": [],
   "source": [
    "for i := 0; i < 100; i++ {\n",
    "    go stats.IncrementCount(\"positive\")\n",
    "}\n",
    "\n",
    "time.Sleep(time.Second)\n",
    "fmt.Println(stats.GetCount(\"positive\"))"
   ]
  },
  {
   "cell_type": "markdown",
   "metadata": {},
   "source": [
    "## Channels vs. Mutexes"
   ]
  },
  {
   "cell_type": "markdown",
   "metadata": {},
   "source": [
    "There isn't any strict rule about when you should use channels to communicate data (i.e., share state) and when you should use Mutexes to manage state. However, we do have some guidance from the Go team [here](https://github.com/golang/go/wiki/MutexOrChannel):\n",
    "\n",
    "> Use whichever is most expressive and/or most simple.\n",
    "> ...\n",
    "> If you ever find your sync.Mutex locking rules are getting too complex, ask yourself whether using channel(s) might be simpler.\n",
    "\n",
    "So, we should keep simplicity in mind and not always reach for channels. In fact, if you look at large, established Go projects on GitHub, you might be surprised to see more Mutexes and fewer channels than expected. "
   ]
  }
 ],
 "metadata": {
  "kernelspec": {
   "display_name": "Go",
   "language": "go",
   "name": "gophernotes"
  },
  "language_info": {
   "codemirror_mode": "",
   "file_extension": ".go",
   "mimetype": "",
   "name": "go",
   "nbconvert_exporter": "",
   "pygments_lexer": "",
   "version": "go1.9.2"
  }
 },
 "nbformat": 4,
 "nbformat_minor": 2
}
