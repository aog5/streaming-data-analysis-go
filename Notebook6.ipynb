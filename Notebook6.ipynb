{
 "cells": [
  {
   "cell_type": "markdown",
   "metadata": {},
   "source": [
    "# Sentiment analysis"
   ]
  },
  {
   "cell_type": "markdown",
   "metadata": {},
   "source": [
    "## Imports"
   ]
  },
  {
   "cell_type": "code",
   "execution_count": null,
   "metadata": {},
   "outputs": [],
   "source": [
    "import (\n",
    "    \"fmt\"\n",
    "    \"strings\"\n",
    "    \n",
    "    \"github.com/machinebox/sdk-go/textbox\"\n",
    ")"
   ]
  },
  {
   "cell_type": "markdown",
   "metadata": {},
   "source": [
    "## Connecting to MachineBox"
   ]
  },
  {
   "cell_type": "markdown",
   "metadata": {},
   "source": [
    "[MachineBox](https://machinebox.io/) is:\n",
    "\n",
    "> State of the art machine learning technology inside a Docker container which you can run, deploy and scale.\n",
    "\n",
    "We will utilize \"textbox,\" which is a pre-configured docker container for sentiment analysis. Everyone can run their own textbox in their own infra, but I have set up a running instance of textbox for us to use here."
   ]
  },
  {
   "cell_type": "code",
   "execution_count": null,
   "metadata": {},
   "outputs": [],
   "source": [
    "machBoxIP := \"\""
   ]
  },
  {
   "cell_type": "code",
   "execution_count": null,
   "metadata": {},
   "outputs": [],
   "source": [
    "client := textbox.New(machBoxIP)"
   ]
  },
  {
   "cell_type": "markdown",
   "metadata": {},
   "source": [
    "## Determine sentiment"
   ]
  },
  {
   "cell_type": "markdown",
   "metadata": {},
   "source": [
    "Now we are going to utilize textbox to determine the sentiment of a couple of statments. We have a \"positive\" statement (i.e., a happy, joyful, or excited statement) and a \"negative\" statement (i.e., a sad, depressing, or angry statment).\n",
    "\n",
    "We define these statements manually here. Although we will be analyzing the text of tweets soon. Feel free to modify the below statements and experiment."
   ]
  },
  {
   "cell_type": "code",
   "execution_count": null,
   "metadata": {},
   "outputs": [],
   "source": [
    "positiveStatement := \"I am so excited to be teaching to super awesome, fun workshop!\"\n",
    "negativeStatement := \"It is sad, depressing, and unfortunate that this workshop will terminate at the end of the day.\""
   ]
  },
  {
   "cell_type": "markdown",
   "metadata": {},
   "source": [
    "To get the sentiment of these statements we utilize the `Check` method of the textbox client: "
   ]
  },
  {
   "cell_type": "code",
   "execution_count": null,
   "metadata": {},
   "outputs": [],
   "source": [
    "analysis, err := client.Check(strings.NewReader(negativeStatement))\n",
    "if err != nil {\n",
    "    fmt.Println(err)\n",
    "}"
   ]
  },
  {
   "cell_type": "markdown",
   "metadata": {},
   "source": [
    "The result from the `Check` includes a couple things (as can be seen [here](https://godoc.org/github.com/machinebox/sdk-go/textbox#Analysis)). We will first look at what keywords were primarily utilized in determining sentiment, and then we will add up the sentiment from sentences in the statement. "
   ]
  },
  {
   "cell_type": "code",
   "execution_count": null,
   "metadata": {},
   "outputs": [],
   "source": [
    "fmt.Println(analysis.Keywords)\n",
    "\n",
    "sentimentTotal := 0.0\n",
    "for _, sentence := range analysis.Sentences {\n",
    "    sentimentTotal += sentence.Sentiment\n",
    "}\n",
    "\n",
    "// Higher sentitment is more positive, and lower is more negative.\n",
    "fmt.Println(\"Sentiment:\", sentimentTotal/float64(len(analysis.Sentences)))"
   ]
  }
 ],
 "metadata": {
  "kernelspec": {
   "display_name": "Go",
   "language": "go",
   "name": "gophernotes"
  },
  "language_info": {
   "codemirror_mode": "",
   "file_extension": ".go",
   "mimetype": "",
   "name": "go",
   "nbconvert_exporter": "",
   "pygments_lexer": "",
   "version": "go1.9.2"
  }
 },
 "nbformat": 4,
 "nbformat_minor": 2
}
