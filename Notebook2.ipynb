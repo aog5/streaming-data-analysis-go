{
 "cells": [
  {
   "cell_type": "markdown",
   "metadata": {},
   "source": [
    "# Goroutines and channels, what and why?"
   ]
  },
  {
   "cell_type": "markdown",
   "metadata": {},
   "source": [
    "## Imports"
   ]
  },
  {
   "cell_type": "code",
   "execution_count": null,
   "metadata": {
    "collapsed": true
   },
   "outputs": [],
   "source": [
    "import (\n",
    "    \"fmt\"\n",
    "    \"time\"\n",
    ")"
   ]
  },
  {
   "cell_type": "markdown",
   "metadata": {},
   "source": [
    "## goroutines"
   ]
  },
  {
   "cell_type": "markdown",
   "metadata": {},
   "source": [
    "A goroutine is a lightweight thread of execution. In other words from Bill Kennedy:\n",
    "\n",
    "> Goroutines are functions that are created and scheduled to be run independently by the Go scheduler. The Go scheduler is responsible for the management and execution of goroutines.\n",
    "\n",
    "These goroutines aren't the same as OS \"threads.\" Threads are expensive OS operations. You run out of system resources very quickly when launching threads. Goroutines are more like a \"coroutine\" or \"coprogram.\" These coroutines multiplex independently executing functions onto a set of threads. "
   ]
  },
  {
   "cell_type": "markdown",
   "metadata": {},
   "source": [
    "You can launch a new goroutine by simply using `go f(s)`, as follows:"
   ]
  },
  {
   "cell_type": "code",
   "execution_count": null,
   "metadata": {
    "collapsed": true
   },
   "outputs": [],
   "source": [
    "// Define a function that prints out numbers.\n",
    "func printNum(from string) {\n",
    "    for i := 1; i < 5; i++ {\n",
    "        fmt.Printf(\"%s output: %d\\n\", from, i)\n",
    "        time.Sleep(1*time.Second)\n",
    "    }\n",
    "} "
   ]
  },
  {
   "cell_type": "code",
   "execution_count": null,
   "metadata": {},
   "outputs": [],
   "source": [
    "// Start a goroutine that will print some numbers.\n",
    "go printNum(\"goroutine 1\")\n",
    "\n",
    "// Start another goroutine that will print some numbers.\n",
    "go func() {\n",
    "    fmt.Println(\"goroutine 2 output!\")\n",
    "}()\n",
    "\n",
    "time.Sleep(4*time.Second)"
   ]
  },
  {
   "cell_type": "markdown",
   "metadata": {},
   "source": [
    "## Channels"
   ]
  },
  {
   "cell_type": "markdown",
   "metadata": {},
   "source": [
    "Go channels facilitate communication or signaling between goroutines. We will cover some of the basic patterns of channel usage here, but there are a whole variety of types and patterns for Go channels. I highly recommend that you read [this blog post](https://www.goinggo.net/2017/10/the-behavior-of-channels.html) for a detailed introduction. "
   ]
  },
  {
   "cell_type": "code",
   "execution_count": null,
   "metadata": {
    "collapsed": true
   },
   "outputs": [],
   "source": [
    "// Make a channel that will signal with string data.\n",
    "ch := make(chan string)"
   ]
  },
  {
   "cell_type": "code",
   "execution_count": null,
   "metadata": {},
   "outputs": [],
   "source": [
    "// Start a goroutine that will print received string messages.\n",
    "go func() {\n",
    "    p := <-ch\n",
    "    fmt.Println(\"received signal: \", p)\n",
    "}()\n",
    "\n",
    "time.Sleep(time.Second)\n",
    "\n",
    "// Send a message on the channel.\n",
    "ch <- \"This is my message\"for j := 1; j <= 9; j++ {\n",
    "    jobs <- j\n",
    "}\n",
    "fmt.Println(\"sent signal\")\n",
    "\n",
    "time.Sleep(time.Second)"
   ]
  },
  {
   "cell_type": "markdown",
   "metadata": {},
   "source": [
    "### Buffered and Unbuffered Channels"
   ]
  },
  {
   "cell_type": "markdown",
   "metadata": {},
   "source": [
    "When signaling with some kind of data (e.g., strings as above), we can use a buffered or unbuffered channel. Our choice will have some impacts on whether we can garauntee delivery of the signal. \n",
    "\n",
    "- If you need to have a goroutine do something only when it receives a signal (i.e., it needs to wait for a signal), you should use an unbuffered channel because you need to ensure that the signal is received.\n",
    "- When you need to throw multiple workers at a problem and don't need to ensure receipt of an individual signal, you might use a buffered channel with a well defined number of workers. You might also use a buffered channel when you need to drop signals after being saturated with a well defined number of signals.\n",
    "\n",
    "The example included above in the \"Channels\" section is an example of of the first case, when a goroutine is waiting on a signal. Once the goroutine receives the signal, it does the corresponding work (printing the message in this case).\n",
    "\n",
    "Here is an example of the second case, when we are fanning out, such that multiple workers can help us accomplish a task:"
   ]
  },
  {
   "cell_type": "code",
   "execution_count": null,
   "metadata": {},
   "outputs": [],
   "source": [
    "// Create our buffered channel.\n",
    "workers := 20\n",
    "results := make(chan string, workers)"
   ]
  },
  {
   "cell_type": "code",
   "execution_count": null,
   "metadata": {},
   "outputs": [],
   "source": [
    "// Have our workers complete some expensive tasks.\n",
    "for w := 0; w < workers; w++ {\n",
    "    output := fmt.Sprintf(\"Worker %d output\", w)\n",
    "    go func(output string) {\n",
    "        time.Sleep(1*time.Second)\n",
    "        results <- output\n",
    "    }(output)\n",
    "}"
   ]
  },
  {
   "cell_type": "code",
   "execution_count": null,
   "metadata": {},
   "outputs": [],
   "source": [
    "// Collect the results.\n",
    "for i := 0; i < workers; i++ {\n",
    "    p := <-results\n",
    "    fmt.Println(p)\n",
    "}"
   ]
  },
  {
   "cell_type": "markdown",
   "metadata": {},
   "source": [
    "**Note** - If you are going to be using a buffered channel, you should _always_ have some justification for the size of that buffered channel. If you don't know how big to make your channel, you should take a second and think through it. [This article](https://www.goinggo.net/2017/10/the-behavior-of-channels.html) should help with that."
   ]
  }
 ],
 "metadata": {
  "kernelspec": {
   "display_name": "Go",
   "language": "go",
   "name": "gophernotes"
  },
  "language_info": {
   "codemirror_mode": "",
   "file_extension": ".go",
   "mimetype": "",
   "name": "go",
   "nbconvert_exporter": "",
   "pygments_lexer": "",
   "version": "go1.9"
  }
 },
 "nbformat": 4,
 "nbformat_minor": 2
}
