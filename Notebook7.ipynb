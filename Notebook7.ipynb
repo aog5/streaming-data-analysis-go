{
 "cells": [
  {
   "cell_type": "markdown",
   "metadata": {},
   "source": [
    "# Streaming sentiment analysis of tweets"
   ]
  },
  {
   "cell_type": "markdown",
   "metadata": {},
   "source": [
    "## Imports"
   ]
  },
  {
   "cell_type": "code",
   "execution_count": null,
   "metadata": {},
   "outputs": [],
   "source": [
    "import (\n",
    "    \"encoding/json\"\n",
    "    \"net\"\n",
    "    \"net/http\"\n",
    "    \"net/url\"\n",
    "    \"strconv\"\n",
    "    \"strings\"\n",
    "    \"sync\"\n",
    "    \"time\"\n",
    "    \"fmt\"\n",
    "    \"os\"\n",
    "    \"context\"\n",
    "    \"strings\"\n",
    "    \n",
    "    \"github.com/garyburd/go-oauth/oauth\"\n",
    "    \"github.com/machinebox/sdk-go/textbox\"\n",
    ")"
   ]
  },
  {
   "cell_type": "markdown",
   "metadata": {},
   "source": [
    "## Previously discussed types, values, and functions"
   ]
  },
  {
   "cell_type": "markdown",
   "metadata": {},
   "source": [
    "Twitter related types:"
   ]
  },
  {
   "cell_type": "code",
   "execution_count": null,
   "metadata": {},
   "outputs": [],
   "source": [
    "// Tweet is a single tweet.\n",
    "type Tweet struct {\n",
    "    Text string\n",
    "    Terms []string\n",
    "}\n",
    "\n",
    "// TweetReader includes the info we need to access Twitter.\n",
    "type TweetReader struct {\n",
    "    ConsumerKey, ConsumerSecret, AccessToken, AccessSecret string\n",
    "}\n",
    "\n",
    "// NewTweetReader creates a new TweetReader with the given credentials.\n",
    "func NewTweetReader(consumerKey, consumerSecret, accessToken, accessSecret string) *TweetReader {\n",
    "    return &TweetReader{\n",
    "        ConsumerKey:    consumerKey,\n",
    "        ConsumerSecret: consumerSecret,\n",
    "        AccessToken:    accessToken,\n",
    "        AccessSecret:   accessSecret,\n",
    "    }\n",
    "}"
   ]
  },
  {
   "cell_type": "markdown",
   "metadata": {},
   "source": [
    "HTTP Client:"
   ]
  },
  {
   "cell_type": "code",
   "execution_count": null,
   "metadata": {},
   "outputs": [],
   "source": [
    "// Create a new HTTP client.\n",
    "var connLock sync.Mutex\n",
    "var conn net.Conn\n",
    "client := &http.Client{\n",
    "    Transport: &http.Transport{\n",
    "        Dial: func(netw, addr string) (net.Conn, error) {\n",
    "            connLock.Lock()\n",
    "            defer connLock.Unlock()\n",
    "            if conn != nil {\n",
    "                conn.Close()\n",
    "                conn = nil\n",
    "            }\n",
    "            netc, err := net.DialTimeout(netw, addr, 5*time.Second)\n",
    "            if err != nil {\n",
    "                return nil, err\n",
    "            }\n",
    "            conn = netc\n",
    "            return netc, nil\n",
    "        },\n",
    "    },\n",
    "}"
   ]
  },
  {
   "cell_type": "markdown",
   "metadata": {},
   "source": [
    "Credentials:"
   ]
  },
  {
   "cell_type": "code",
   "execution_count": null,
   "metadata": {},
   "outputs": [],
   "source": [
    "// Create a new Tweet Reader.\n",
    "consumerKey := \"\"\n",
    "consumerSecret := \"\"\n",
    "accessToken := \"\"\n",
    "accessSecret := \"\"\n",
    "r := NewTweetReader(consumerKey, consumerSecret, accessToken, accessSecret)\n",
    "\n",
    "// Create oauth Credentials.\n",
    "creds := &oauth.Credentials{\n",
    "    Token:  r.AccessToken,\n",
    "    Secret: r.AccessSecret,\n",
    "}\n",
    "\n",
    "// Create an oauth Client.\n",
    "authClient := &oauth.Client{\n",
    "    Credentials: oauth.Credentials{\n",
    "        Token:  r.ConsumerKey,\n",
    "        Secret: r.ConsumerSecret,\n",
    "    },\n",
    "}"
   ]
  },
  {
   "cell_type": "markdown",
   "metadata": {},
   "source": [
    "MachineBox client:"
   ]
  },
  {
   "cell_type": "code",
   "execution_count": null,
   "metadata": {},
   "outputs": [],
   "source": [
    "machBoxIP := \"\"\n",
    "mbClient := textbox.New(machBoxIP)"
   ]
  },
  {
   "cell_type": "markdown",
   "metadata": {},
   "source": [
    "## Streaming sentiment analysis"
   ]
  },
  {
   "cell_type": "markdown",
   "metadata": {},
   "source": [
    "We will perform this analysis in a manner similar to our lasting streaming collection of tweets. However, in this case, our two goroutines will:\n",
    "\n",
    "1. Collect tweets and send them on a channel `tweets`, and\n",
    "2. Analyze the tweets from the channel `tweets` and update our tweet statistics\n",
    "\n",
    "As such, we need to define our `Stats` type:"
   ]
  },
  {
   "cell_type": "code",
   "execution_count": null,
   "metadata": {},
   "outputs": [],
   "source": [
    "// Stats stores aggregated stats about\n",
    "// tweets collected over time\n",
    "type Stats struct {\n",
    "    SentimentAverage  float64\n",
    "    Counts            map[string]int\n",
    "    Mux               sync.Mutex\n",
    "}\n",
    "\n",
    "// Initialize the stats.\n",
    "myStats := Stats{\n",
    "    SentimentAverage: 0.0,\n",
    "    Counts: map[string]int{\n",
    "        \"positive\": 0,\n",
    "        \"negative\": 0,\n",
    "        \"neutral\": 0,\n",
    "        \"total\": 0,\n",
    "    },\n",
    "    Mux: sync.Mutex{},\n",
    "}"
   ]
  },
  {
   "cell_type": "markdown",
   "metadata": {},
   "source": [
    "And the corresponding functions to update the stats:"
   ]
  },
  {
   "cell_type": "code",
   "execution_count": null,
   "metadata": {},
   "outputs": [],
   "source": [
    "// IncrementCount the count of tweets.\n",
    "func (s *Stats) IncrementCount(sentiment float64) {\n",
    "    \n",
    "    // Get the appropriate counter.\n",
    "    var key string\n",
    "    switch {\n",
    "    case sentiment > 0.80:\n",
    "        key = \"positive\"\n",
    "    case sentiment < 0.50:\n",
    "        key = \"negative\"\n",
    "    default:\n",
    "        key = \"neutral\"\n",
    "    }\n",
    "    \n",
    "    // Update the counts.\n",
    "    s.Mux.Lock()\n",
    "    s.Counts[key]++\n",
    "    s.Counts[\"total\"]++\n",
    "    s.Mux.Unlock()\n",
    "}\n",
    "\n",
    "// Update the tweet stream sentiment.\n",
    "func (s *Stats) UpdateSentiment(newSentiment float64) {\n",
    "    \n",
    "    // Lock so only the current goroutine can access the sentiment.\n",
    "    s.Mux.Lock()\n",
    "    \n",
    "    // Get the current count of tweets.\n",
    "    total, ok := s.Counts[\"total\"]\n",
    "    if !ok {\n",
    "        fmt.Println(\"Could not get key value \\\"total\\\"\")\n",
    "        return\n",
    "    }\n",
    "    \n",
    "    // Update the value.\n",
    "    s.SentimentAverage = (newSentiment + s.SentimentAverage * float64(total))/(float64(total) + 1.0)\n",
    "    \n",
    "    // Unlock the data.\n",
    "    s.Mux.Unlock()\n",
    "}"
   ]
  },
  {
   "cell_type": "markdown",
   "metadata": {},
   "source": [
    "Now we are going to start our streaming collection and analysis of tweets. Then after starting the streaming analysis, we are going to checkout our stats occasionally to check the current values. Here we go!"
   ]
  },
  {
   "cell_type": "code",
   "execution_count": null,
   "metadata": {},
   "outputs": [],
   "source": [
    "ctx, _ := context.WithTimeout(context.Background(),  10*time.Second)\n",
    "tweets := make(chan Tweet)\n",
    "terms := []string{\"Trump\", \"Russia\"}"
   ]
  },
  {
   "cell_type": "code",
   "execution_count": null,
   "metadata": {},
   "outputs": [],
   "source": [
    "fmt.Println(\"Start 1st goroutine to collect tweets...\")\n",
    "go func() {\n",
    "    \n",
    "    // Prepare the query.\n",
    "    form := url.Values{\"track\": terms}\n",
    "    formEnc := form.Encode()\n",
    "    u, err := url.Parse(\"https://stream.twitter.com/1.1/statuses/filter.json\")\n",
    "    if err != nil {\n",
    "        fmt.Println(\"Error parsing URL:\", err)\n",
    "    }\n",
    "            \n",
    "    // Prepare the request.\n",
    "    req, err := http.NewRequest(\"POST\", u.String(), strings.NewReader(formEnc))\n",
    "    if err != nil {\n",
    "        fmt.Println(\"creating filter request failed:\", err)\n",
    "        continue\n",
    "    }\n",
    "    req.Header.Set(\"Authorization\", authClient.AuthorizationHeader(creds, \"POST\", u, form))\n",
    "    req.Header.Set(\"Content-Type\", \"application/x-www-form-urlencoded\")\n",
    "    req.Header.Set(\"Content-Length\", strconv.Itoa(len(formEnc)))\n",
    "            \n",
    "    // Execute the request.\n",
    "    resp, err := client.Do(req)\n",
    "    if err != nil {\n",
    "        fmt.Println(\"Error getting response:\", err)\n",
    "        continue\n",
    "    }\n",
    "    if resp.StatusCode != http.StatusOK {\n",
    "        fmt.Println(\"Unexpected HTTP status code:\", resp.StatusCode)\n",
    "        continue\n",
    "    }\n",
    "            \n",
    "    // Decode the results.\n",
    "    decoder := json.NewDecoder(resp.Body)\n",
    "    for {\n",
    "        var t Tweet\n",
    "        if err := decoder.Decode(&t); err != nil {\n",
    "            break\n",
    "        }\n",
    "        tweets <- t\n",
    "    }\n",
    "    resp.Body.Close()\n",
    "}()\n",
    "\n",
    "fmt.Println(\"Start a 2nd goroutine that prints the collected tweets...\")\n",
    "go func() {\n",
    "    for {\n",
    "        select {\n",
    "            \n",
    "        // Stop the goroutine.\n",
    "        case <-ctx.Done():\n",
    "            return\n",
    "            \n",
    "        // Print the tweets.\n",
    "        case t := <-tweets:\n",
    "            \n",
    "            // Analyze the tweet.\n",
    "            analysis, err := mbClient.Check(strings.NewReader(t.Text))\n",
    "            if err != nil {\n",
    "                fmt.Println(\"MachineBox error:\", err)\n",
    "                continue\n",
    "            }\n",
    "            \n",
    "            // Get the sentiment.\n",
    "            sentimentTotal := 0.0\n",
    "            for _, sentence := range analysis.Sentences {\n",
    "                sentimentTotal += sentence.Sentiment\n",
    "            }\n",
    "\n",
    "            // Update the stats.\n",
    "            myStats.UpdateSentiment(sentimentTotal)\n",
    "            myStats.IncrementCount(sentimentTotal)\n",
    "        }\n",
    "    }\n",
    "}()\n",
    "\n",
    "// Check on our stats.\n",
    "for i := 0; i < 10; i++ {\n",
    "    fmt.Println(\"\")\n",
    "    time.Sleep(time.Second)\n",
    "    myStats.Mux.Lock()\n",
    "    fmt.Printf(\"Sentiment: %0.2f\\n\", myStats.SentimentAverage)\n",
    "    fmt.Printf(\"Total tweets analyzed: %d\\n\", myStats.Counts[\"total\"])\n",
    "    fmt.Printf(\"Total positive tweets: %d\\n\", myStats.Counts[\"positive\"])\n",
    "    fmt.Printf(\"Total negative tweets: %d\\n\", myStats.Counts[\"negative\"])\n",
    "    fmt.Printf(\"Total neutral tweets: %d\\n\", myStats.Counts[\"neutral\"])\n",
    "    myStats.Mux.Unlock()\n",
    "}"
   ]
  },
  {
   "cell_type": "code",
   "execution_count": null,
   "metadata": {},
   "outputs": [],
   "source": []
  }
 ],
 "metadata": {
  "kernelspec": {
   "display_name": "Go",
   "language": "go",
   "name": "gophernotes"
  },
  "language_info": {
   "codemirror_mode": "",
   "file_extension": ".go",
   "mimetype": "",
   "name": "go",
   "nbconvert_exporter": "",
   "pygments_lexer": "",
   "version": "go1.9.2"
  }
 },
 "nbformat": 4,
 "nbformat_minor": 2
}
