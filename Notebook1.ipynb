{
 "cells": [
  {
   "cell_type": "markdown",
   "metadata": {},
   "source": [
    "# Structs for our streaming data"
   ]
  },
  {
   "cell_type": "markdown",
   "metadata": {},
   "source": [
    "## Imports"
   ]
  },
  {
   "cell_type": "markdown",
   "metadata": {},
   "source": [
    "Most of what we will do in this workshop will be focused on Go's standard library. We will add a little sugar on top eventually when we do some sentiment analysis with [MachineBox](https://machinebox.io/), but for now we will keep it simple. "
   ]
  },
  {
   "cell_type": "code",
   "execution_count": null,
   "metadata": {
    "collapsed": true
   },
   "outputs": [],
   "source": [
    "import \"fmt\""
   ]
  },
  {
   "cell_type": "markdown",
   "metadata": {},
   "source": [
    "## Creating structs to manage our data"
   ]
  },
  {
   "cell_type": "markdown",
   "metadata": {},
   "source": [
    "First, let's create a `Tweet` struct that will hold the contents of an individual Tweet. In addition to the text of the Tweet, we will include a list of keywords that were matched in the tweet (as we will be searching through tweets by keyword)."
   ]
  },
  {
   "cell_type": "code",
   "execution_count": null,
   "metadata": {
    "collapsed": true
   },
   "outputs": [],
   "source": [
    "// Tweet is a single tweet.\n",
    "type Tweet struct {\n",
    "    Text  string\n",
    "    Terms []string\n",
    "}"
   ]
  },
  {
   "cell_type": "markdown",
   "metadata": {},
   "source": [
    "We are also going to utilize a `Stats` struct that will allow us to aggregate some streaming statistics about tweets that we are analyzing. \n",
    "\n",
    "The `SentimentAverage` field will hold a float value that will represent the current average sentiment (positive/negative or happy/sad) of analyzed tweets. This number will fluctuate between 1 and 0, but we will get into those details later.\n",
    "\n",
    "In addition, the `Counts` field will include a map that we will update with counts of positive, negative, and neutral tweets."
   ]
  },
  {
   "cell_type": "code",
   "execution_count": null,
   "metadata": {
    "collapsed": true
   },
   "outputs": [],
   "source": [
    "// Stats stores aggregated stats about\n",
    "// tweets collected over time\n",
    "type Stats struct {\n",
    "    SentimentAverage  float64\n",
    "    Counts            map[string]int\n",
    "}"
   ]
  },
  {
   "cell_type": "markdown",
   "metadata": {},
   "source": [
    "## Using our structs"
   ]
  },
  {
   "cell_type": "markdown",
   "metadata": {},
   "source": [
    "Let's initialize a couple of values of these structs to get comfortable with their use. Let's initialize a `Tweet` value and a `Stats` value in slightly different ways and then output their contents to standard out."
   ]
  },
  {
   "cell_type": "code",
   "execution_count": null,
   "metadata": {},
   "outputs": [],
   "source": [
    "// Initialize a value of Tweet.\n",
    "var tweet Tweet\n",
    "\n",
    "// Fill in some details.\n",
    "tweet.Text = \"This is my really happy tweet!\"\n",
    "tweet.Terms = []string{\"tweet\"}"
   ]
  },
  {
   "cell_type": "code",
   "execution_count": null,
   "metadata": {},
   "outputs": [],
   "source": [
    "fmt.Println(tweet.Text)"
   ]
  },
  {
   "cell_type": "code",
   "execution_count": null,
   "metadata": {
    "collapsed": true
   },
   "outputs": [],
   "source": [
    "// Initialize and update our tweet stats.\n",
    "stats := Stats{\n",
    "    SentimentAverage: 0.9,\n",
    "    Counts: map[string]int{\n",
    "        \"positive\": 1,\n",
    "        \"negative\": 0,\n",
    "        \"neutral\": 0,\n",
    "    },\n",
    "}"
   ]
  },
  {
   "cell_type": "code",
   "execution_count": null,
   "metadata": {},
   "outputs": [],
   "source": [
    "fmt.Printf(\"We have %d positive tweet(s) and %d negative tweet(s).\\n\", \n",
    "           stats.Counts[\"positive\"], stats.Counts[\"negative\"])"
   ]
  }
 ],
 "metadata": {
  "kernelspec": {
   "display_name": "Go",
   "language": "go",
   "name": "gophernotes"
  },
  "language_info": {
   "codemirror_mode": "",
   "file_extension": ".go",
   "mimetype": "",
   "name": "go",
   "nbconvert_exporter": "",
   "pygments_lexer": "",
   "version": "go1.9"
  }
 },
 "nbformat": 4,
 "nbformat_minor": 2
}
