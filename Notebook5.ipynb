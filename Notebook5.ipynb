{
 "cells": [
  {
   "cell_type": "markdown",
   "metadata": {},
   "source": [
    "# Streaming tweets to a channel"
   ]
  },
  {
   "cell_type": "markdown",
   "metadata": {},
   "source": [
    "## Imports"
   ]
  },
  {
   "cell_type": "code",
   "execution_count": null,
   "metadata": {},
   "outputs": [],
   "source": [
    "import (\n",
    "    \"encoding/json\"\n",
    "    \"net\"\n",
    "    \"net/http\"\n",
    "    \"net/url\"\n",
    "    \"strconv\"\n",
    "    \"strings\"\n",
    "    \"sync\"\n",
    "    \"time\"\n",
    "    \"fmt\"\n",
    "    \"os\"\n",
    "    \"context\"\n",
    "    \n",
    "    \"github.com/garyburd/go-oauth/oauth\"\n",
    ")"
   ]
  },
  {
   "cell_type": "markdown",
   "metadata": {},
   "source": [
    "## Previously discussed types, values and functions"
   ]
  },
  {
   "cell_type": "markdown",
   "metadata": {},
   "source": [
    "Twitter related types:"
   ]
  },
  {
   "cell_type": "code",
   "execution_count": null,
   "metadata": {},
   "outputs": [],
   "source": [
    "// Tweet is a single tweet.\n",
    "type Tweet struct {\n",
    "    Text string\n",
    "    Terms []string\n",
    "}\n",
    "\n",
    "// TweetReader includes the info we need to access Twitter.\n",
    "type TweetReader struct {\n",
    "    ConsumerKey, ConsumerSecret, AccessToken, AccessSecret string\n",
    "}\n",
    "\n",
    "// NewTweetReader creates a new TweetReader with the given credentials.\n",
    "func NewTweetReader(consumerKey, consumerSecret, accessToken, accessSecret string) *TweetReader {\n",
    "    return &TweetReader{\n",
    "        ConsumerKey:    consumerKey,\n",
    "        ConsumerSecret: consumerSecret,\n",
    "        AccessToken:    accessToken,\n",
    "        AccessSecret:   accessSecret,\n",
    "    }\n",
    "}"
   ]
  },
  {
   "cell_type": "markdown",
   "metadata": {},
   "source": [
    "HTTP client:"
   ]
  },
  {
   "cell_type": "code",
   "execution_count": null,
   "metadata": {},
   "outputs": [],
   "source": [
    "// Create a new HTTP client.\n",
    "var connLock sync.Mutex\n",
    "var conn net.Conn\n",
    "client := &http.Client{\n",
    "    Transport: &http.Transport{\n",
    "        Dial: func(netw, addr string) (net.Conn, error) {\n",
    "            connLock.Lock()\n",
    "            defer connLock.Unlock()\n",
    "            if conn != nil {\n",
    "                conn.Close()\n",
    "                conn = nil\n",
    "            }\n",
    "            netc, err := net.DialTimeout(netw, addr, 5*time.Second)\n",
    "            if err != nil {\n",
    "                return nil, err\n",
    "            }\n",
    "            conn = netc\n",
    "            return netc, nil\n",
    "        },\n",
    "    },\n",
    "}"
   ]
  },
  {
   "cell_type": "markdown",
   "metadata": {},
   "source": [
    "Credentials:"
   ]
  },
  {
   "cell_type": "code",
   "execution_count": null,
   "metadata": {},
   "outputs": [],
   "source": [
    "// Create a new Tweet Reader.\n",
    "consumerKey := \"kgbOdbtngw1BJUL41QO7uwSKO\"\n",
    "consumerSecret := \"iw0fqWGscqsUuuxgUBQsqYwteFxivfiUXX5qqN2ITqBXgloFL0\"\n",
    "accessToken := \"104241306-PNR3msoakEhdyl7nweX9K2iSV5vfR00zJU6Mg4hE\"\n",
    "accessSecret := \"A2Yvtl5sgpVdxwLyU91iEisamDRU7TFDwXKDM87peGFSQ\"\n",
    "r := NewTweetReader(consumerKey, consumerSecret, accessToken, accessSecret)\n",
    "\n",
    "// Create oauth Credentials.\n",
    "creds := &oauth.Credentials{\n",
    "    Token:  r.AccessToken,\n",
    "    Secret: r.AccessSecret,\n",
    "}\n",
    "\n",
    "// Create an oauth Client.\n",
    "authClient := &oauth.Client{\n",
    "    Credentials: oauth.Credentials{\n",
    "        Token:  r.ConsumerKey,\n",
    "        Secret: r.ConsumerSecret,\n",
    "    },\n",
    "}"
   ]
  },
  {
   "cell_type": "markdown",
   "metadata": {},
   "source": [
    "## Streaming tweets"
   ]
  },
  {
   "cell_type": "markdown",
   "metadata": {},
   "source": [
    "In a previous notebook, we manually performed a loop over a hardcoded number of tweets, printing out the collected tweets. However, really what we want is a process (i.e., a goroutine) that continually gathers the tracked tweets and communicates them to us. \n",
    "\n",
    "As we know from yesterday, we can communicate data between goroutines via channels. So, let's create a channel that will let us communicate collected tweets:"
   ]
  },
  {
   "cell_type": "code",
   "execution_count": null,
   "metadata": {},
   "outputs": [],
   "source": [
    "tweets := make(chan Tweet)"
   ]
  },
  {
   "cell_type": "markdown",
   "metadata": {},
   "source": [
    "Let's define the terms that we are searching for again:"
   ]
  },
  {
   "cell_type": "code",
   "execution_count": null,
   "metadata": {},
   "outputs": [],
   "source": [
    "// Define the terms for our search.\n",
    "terms := []string{\"Trump\", \"Russia\"}"
   ]
  },
  {
   "cell_type": "markdown",
   "metadata": {},
   "source": [
    "And then we are ready to start:\n",
    "\n",
    "1. A 1st goroutine that will handle the gathering of these tweets and the communication of the tweets to the channel, and\n",
    "2. A 2nd goroutine that will read the tweets from that channel and print them out. \n",
    "\n",
    "*Note* - We will also create a context value that will allow us to stop the goroutine:"
   ]
  },
  {
   "cell_type": "code",
   "execution_count": null,
   "metadata": {},
   "outputs": [],
   "source": [
    "ctx, _ := context.WithTimeout(context.Background(),  2*time.Second)"
   ]
  },
  {
   "cell_type": "code",
   "execution_count": null,
   "metadata": {},
   "outputs": [],
   "source": [
    "fmt.Println(\"Start 1st goroutine to collect tweets...\")\n",
    "go func() {\n",
    "    \n",
    "    // Prepare the query.\n",
    "    form := url.Values{\"track\": terms}\n",
    "    formEnc := form.Encode()\n",
    "    u, err := url.Parse(\"https://stream.twitter.com/1.1/statuses/filter.json\")\n",
    "    if err != nil {\n",
    "        fmt.Println(\"Error parsing URL:\", err)\n",
    "    }\n",
    "            \n",
    "    // Prepare the request.\n",
    "    req, err := http.NewRequest(\"POST\", u.String(), strings.NewReader(formEnc))\n",
    "    if err != nil {\n",
    "        fmt.Println(\"creating filter request failed:\", err)\n",
    "        continue\n",
    "    }\n",
    "    req.Header.Set(\"Authorization\", authClient.AuthorizationHeader(creds, \"POST\", u, form))\n",
    "    req.Header.Set(\"Content-Type\", \"application/x-www-form-urlencoded\")\n",
    "    req.Header.Set(\"Content-Length\", strconv.Itoa(len(formEnc)))\n",
    "            \n",
    "    // Execute the request.\n",
    "    resp, err := client.Do(req)\n",
    "    if err != nil {\n",
    "        fmt.Println(\"Error getting response:\", err)\n",
    "        continue\n",
    "    }\n",
    "    if resp.StatusCode != http.StatusOK {\n",
    "        fmt.Println(\"Unexpected HTTP status code:\", resp.StatusCode)\n",
    "        continue\n",
    "    }\n",
    "            \n",
    "    // Decode the results.\n",
    "    decoder := json.NewDecoder(resp.Body)\n",
    "    for {\n",
    "        var t Tweet\n",
    "        if err := decoder.Decode(&t); err != nil {\n",
    "            break\n",
    "        }\n",
    "        tweets <- t\n",
    "    }\n",
    "    resp.Body.Close()\n",
    "}()\n",
    "\n",
    "fmt.Println(\"Start a 2nd goroutine that prints the collected tweets...\")\n",
    "go func() {\n",
    "    for {\n",
    "        select {\n",
    "            \n",
    "        // Stop the goroutine.\n",
    "        case <-ctx.Done():\n",
    "            return\n",
    "            \n",
    "        // Print the tweets.\n",
    "        case t := <-tweets:\n",
    "            fmt.Println(t.Text)\n",
    "        }\n",
    "    }\n",
    "}()\n",
    "\n",
    "time.Sleep(3*time.Second)"
   ]
  }
 ],
 "metadata": {
  "kernelspec": {
   "display_name": "Go",
   "language": "go",
   "name": "gophernotes"
  },
  "language_info": {
   "codemirror_mode": "",
   "file_extension": ".go",
   "mimetype": "",
   "name": "go",
   "nbconvert_exporter": "",
   "pygments_lexer": "",
   "version": "go1.9.2"
  }
 },
 "nbformat": 4,
 "nbformat_minor": 2
}
